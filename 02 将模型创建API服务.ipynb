{
 "cells": [
  {
   "cell_type": "markdown",
   "metadata": {},
   "source": [
    "# 将模型创建API服务\n",
    "\n",
    "## 参考\n",
    "\n",
    "<div id=\"refer-anchor-1\"></div>\n",
    "\n",
    "- [1] [为你的机器学习模型创建API服务](https://www.cnblogs.com/wkang/p/9905444.html)"
   ]
  },
  {
   "cell_type": "markdown",
   "metadata": {},
   "source": [
    "## 创建一个简单模型\n",
    "\n",
    "以一个kaggle经典的比赛项目：泰坦尼克号生还者预测为例，训练一个简单的模型。<br />\n",
    "首先，我们需要导入训练集并选择特征。因为本文主要是介绍机器学习模型API的编写，所以模型训练过程并不做为重点内容，因此我们只选择其中的'Age', 'Sex', 'Embarked', 'Survived' 这四个特征来构造训练集。"
   ]
  },
  {
   "cell_type": "code",
   "execution_count": 1,
   "metadata": {},
   "outputs": [],
   "source": [
    "import pandas as pd\n",
    "import warnings\n",
    "warnings.filterwarnings(\"ignore\")\n",
    "\n",
    "# 导入训练集并选择特征\n",
    "df = pd.read_csv('input/train.csv')\n",
    "include = ['Age', 'Sex', 'Embarked', 'Survived']  \n",
    "df_ = df[include]"
   ]
  },
  {
   "cell_type": "markdown",
   "metadata": {},
   "source": [
    "然后，是一个简单的数据处理过程。\n",
    "这里主要是对类别型特征进行One-hot编码，对连续型特征进行空缺值填充。"
   ]
  },
  {
   "cell_type": "code",
   "execution_count": 2,
   "metadata": {},
   "outputs": [],
   "source": [
    "categoricals = []\n",
    "for col, col_type in df_.dtypes.iteritems():\n",
    "    if col_type == 'O':\n",
    "        categoricals.append(col)\n",
    "    else:\n",
    "        df_[col].fillna(0, inplace=True)\n",
    "\n",
    "df_ohe = pd.get_dummies(df_, columns=categoricals, dummy_na=True)"
   ]
  },
  {
   "cell_type": "markdown",
   "metadata": {},
   "source": [
    "最后，是模型的训练以及持久化保存。\n",
    "\n",
    "模型采用的是逻辑回归，使用sklearn.externals.joblib将模型保存为序列化文件.pkl。需要注意的是，如果传入的请求不包含所有可能的category变量值，那么在预测时，get_dummies()生成的dataframe的列数比训练得到分类器的列数少，这会导致运行报错发生。所以在模型训练期间还需要持久化训练集One-hot后的列名列表。"
   ]
  },
  {
   "cell_type": "code",
   "execution_count": 3,
   "metadata": {},
   "outputs": [
    {
     "name": "stdout",
     "output_type": "stream",
     "text": [
      "Model dumped!\n",
      "Models columns dumped!\n"
     ]
    }
   ],
   "source": [
    "from sklearn.linear_model import LogisticRegression\n",
    "from joblib import dump\n",
    "\n",
    "dependent_variable = 'Survived'\n",
    "x = df_ohe[df_ohe.columns.difference([dependent_variable])]\n",
    "y = df_ohe[dependent_variable]\n",
    "lr = LogisticRegression()\n",
    "lr.fit(x, y)\n",
    "\n",
    "# 保存模型\n",
    "dump(lr, 'model/model.joblib')\n",
    "print(\"Model dumped!\")\n",
    "\n",
    "# 把训练集中的列名保存为joblib\n",
    "model_columns = list(x.columns)\n",
    "dump(model_columns, 'model/model_columns.joblib')\n",
    "print(\"Models columns dumped!\")"
   ]
  },
  {
   "cell_type": "markdown",
   "metadata": {},
   "source": [
    "## 基于Flask框架创建API服务\n",
    "\n",
    "使用Flask部署模型服务，需要写一个函数predict()，并完成以下两件事：\n",
    "\n",
    "1. 当应用程序启动时，将已持久化的模型加载到内存中；\n",
    "2. 创建一个API站点，该站点接受输入变量的请求后，将输入转换为适当的格式，并返回预测。\n",
    "\n",
    "更具体地说，需要API的输入如下（一个由JSON组成的列表）：\n",
    "``` json\n",
    "[\n",
    "    {\"Age\": 85, \"Sex\": \"male\", \"Embarked\": \"S\"},\n",
    "    {\"Age\": 24, \"Sex\": \"female\", \"Embarked\": \"C\"},\n",
    "    {\"Age\": 3, \"Sex\": \"male\", \"Embarked\": \"C\"},\n",
    "    {\"Age\": 21, \"Sex\": \"male\", \"Embarked\": \"S\"}\n",
    "]\n",
    "```\n",
    "而模型API的输出如下：\n",
    "``` json\n",
    "{\n",
    "    \"prediction\": [0, 1, 1, 0]\n",
    "}\n",
    "```"
   ]
  },
  {
   "cell_type": "markdown",
   "metadata": {},
   "source": [
    "``` python\n",
    "import traceback\n",
    "import sys\n",
    "\n",
    "import pandas as pd\n",
    "from flask import request\n",
    "from flask import Flask\n",
    "from flask import jsonify\n",
    "from joblib import load\n",
    "\n",
    "app = Flask(__name__)\n",
    "\n",
    "\n",
    "# Your API endpoint URL would consist /predict\n",
    "@app.route('/predict', methods=['POST'])\n",
    "def predict():\n",
    "    if lr:\n",
    "        try:\n",
    "            json_ = request.json\n",
    "            query = pd.get_dummies(pd.DataFrame(json_))\n",
    "            query = query.reindex(columns = model_columns, fill_value=0)\n",
    "            prediction = list(lr.predict(query))\n",
    "            return jsonify({'prediction': str(prediction)})\n",
    "        except Exception:\n",
    "            return jsonify({'trace': traceback.format_exc()})\n",
    "    else:\n",
    "        print('Train the model first')\n",
    "        return 'No model here to use'\n",
    "\n",
    "\n",
    "if __name__ == '__main__':\n",
    "\n",
    "    try:\n",
    "        port = int(sys.argv[1])\n",
    "    except Exception:\n",
    "        port = 9000\n",
    "    # Load  model.joblib\n",
    "    lr = load('model/model.joblib')\n",
    "    print('Model loaded')\n",
    "    # Load model_columns.joblib\n",
    "    model_columns = load('model/model_columns.joblib')\n",
    "    print('Model columns loaded')\n",
    "    app.run(host='localhost', port=port, debug=True)\n",
    "```"
   ]
  },
  {
   "cell_type": "markdown",
   "metadata": {},
   "source": [
    "到此，我们的机器学习模型API已经创建完毕，flask_api.py 的代码部分也已构造完毕。但在进一步深入之前，让我们回顾一下之前的所有操作：\n",
    "\n",
    "1. 加载了泰坦尼克数据集并选择了四个特征。\n",
    "2. 进行了必要的数据预处理。\n",
    "3. 训练了一个逻辑回归分类器模型并将其序列化。\n",
    "4. 持久化训练集中的列名的列表。\n",
    "\n",
    "使用Flask编写了一个简单的API，该API通过接收一个由JSON组成的列表，预测一个人是否在沉船中幸存。"
   ]
  },
  {
   "cell_type": "markdown",
   "metadata": {},
   "source": [
    "## API的有效性测试"
   ]
  },
  {
   "cell_type": "markdown",
   "metadata": {},
   "source": [
    "``` python\n",
    "import requests\n",
    "\n",
    "years_exp = [{\"Age\": 22, \"Sex\": \"male\", \"Embarked\": \"S\"},\n",
    "             {\"Age\": 22, \"Sex\": \"female\", \"Embarked\": \"C\"},\n",
    "             {\"Age\": 80, \"Sex\": \"female\", \"Embarked\": \"C\"},\n",
    "             {\"Age\": 22, \"Sex\": \"male\", \"Embarked\": \"S\"},\n",
    "             {\"Age\": 22, \"Sex\": \"female\", \"Embarked\": \"C\"},\n",
    "             {\"Age\": 80, \"Sex\": \"female\", \"Embarked\": \"C\"},\n",
    "             {\"Age\": 22, \"Sex\": \"male\", \"Embarked\": \"S\"},\n",
    "             {\"Age\": 22, \"Sex\": \"female\", \"Embarked\": \"C\"},\n",
    "             {\"Age\": 80, \"Sex\": \"female\", \"Embarked\": \"C\"},\n",
    "             {\"Age\": 22, \"Sex\": \"male\", \"Embarked\": \"S\"},\n",
    "             {\"Age\": 22, \"Sex\": \"female\", \"Embarked\": \"C\"},\n",
    "             {\"Age\": 80, \"Sex\": \"female\", \"Embarked\": \"C\"},\n",
    "             {\"Age\": 22, \"Sex\": \"male\", \"Embarked\": \"S\"},\n",
    "             {\"Age\": 22, \"Sex\": \"female\", \"Embarked\": \"C\"},\n",
    "             {\"Age\": 80, \"Sex\": \"female\", \"Embarked\": \"C\"},\n",
    "             ]\n",
    "response = requests.post(url='http://localhost:9000/predict', json=years_exp)\n",
    "result = response.json()\n",
    "print('model API返回结果：', result)\n",
    "```\n",
    "\n",
    "model API返回结果：\n",
    "\n",
    "``` json\n",
    "{'prediction': '[0, 1, 1, 0, 1, 1, 0, 1, 1, 0, 1, 1, 0, 1, 1]'}\n",
    "```"
   ]
  },
  {
   "cell_type": "code",
   "execution_count": null,
   "metadata": {},
   "outputs": [],
   "source": []
  }
 ],
 "metadata": {
  "kernelspec": {
   "display_name": "Python 3",
   "language": "python",
   "name": "python3"
  },
  "language_info": {
   "codemirror_mode": {
    "name": "ipython",
    "version": 3
   },
   "file_extension": ".py",
   "mimetype": "text/x-python",
   "name": "python",
   "nbconvert_exporter": "python",
   "pygments_lexer": "ipython3",
   "version": "3.7.9"
  }
 },
 "nbformat": 4,
 "nbformat_minor": 4
}
